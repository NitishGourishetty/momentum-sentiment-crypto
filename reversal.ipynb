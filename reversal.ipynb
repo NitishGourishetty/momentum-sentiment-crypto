{
 "cells": [
  {
   "cell_type": "code",
   "execution_count": 6,
   "metadata": {},
   "outputs": [
    {
     "name": "stdout",
     "output_type": "stream",
     "text": [
      "                     BTCUSDT\n",
      "0                           \n",
      "2020-01-01 00:00:00  7230.71\n",
      "2020-01-01 04:00:00  7205.50\n",
      "2020-01-01 08:00:00  7195.80\n",
      "2020-01-01 12:00:00  7233.02\n",
      "2020-01-01 16:00:00  7223.72\n",
      "Shape: (10951, 1)\n"
     ]
    }
   ],
   "source": [
    "from binance.client import Client as bnb_client\n",
    "import pandas as pd\n",
    "\n",
    "client = bnb_client(tld='US')\n",
    "def get_crypto_data(symbol):\n",
    "    # Kline (the information we are working with): open price, high price, low price, close price, volume in the four hour period\n",
    "    klines = client.get_historical_klines(symbol, '4h', '2020-01-01', '2024-12-31')\n",
    "    \n",
    "    df = pd.DataFrame(klines)\n",
    "    df[0] = pd.to_datetime(df[0], unit='ms')\n",
    "    df = df.set_index(0)[[4]]  # Just close price\n",
    "    df.columns = [symbol]\n",
    "    df[symbol] = df[symbol].astype(float)\n",
    "    \n",
    "    return df\n",
    "\n",
    "btc_data = get_crypto_data('BTCUSDT')\n",
    "print(btc_data.head())\n",
    "print(f\"Shape: {btc_data.shape}\")"
   ]
  },
  {
   "cell_type": "code",
   "execution_count": 7,
   "metadata": {},
   "outputs": [
    {
     "name": "stdout",
     "output_type": "stream",
     "text": [
      "                     BTCUSDT  ETHUSDT  ADAUSDT\n",
      "0                                             \n",
      "2020-01-01 00:00:00  7230.71   130.18  0.03308\n",
      "2020-01-01 04:00:00  7205.50   130.52  0.03320\n",
      "2020-01-01 08:00:00  7195.80   130.84  0.03321\n",
      "2020-01-01 12:00:00  7233.02   131.84  0.03357\n",
      "2020-01-01 16:00:00  7223.72   131.98  0.03361\n",
      "Shape: (10951, 3)\n"
     ]
    }
   ],
   "source": [
    "symbols = ['BTCUSDT', 'ETHUSDT', 'ADAUSDT']\n",
    "dfs = []\n",
    "\n",
    "\n",
    "for symbol in symbols:\n",
    "    df = get_crypto_data(symbol)\n",
    "    dfs.append(df)\n",
    "\n",
    "\n",
    "# combining into one data frame\n",
    "\n",
    "prices = pd.concat(dfs, axis=1)\n",
    "print(prices.head())"
   ]
  },
  {
   "attachments": {},
   "cell_type": "markdown",
   "metadata": {},
   "source": [
    "Because there is such a difference in price here, for our strategy we should use returns instead of just raw price data"
   ]
  },
  {
   "cell_type": "code",
   "execution_count": 8,
   "metadata": {},
   "outputs": [
    {
     "name": "stdout",
     "output_type": "stream",
     "text": [
      "Returns:\n",
      "                      BTCUSDT   ETHUSDT   ADAUSDT\n",
      "0                                                \n",
      "2020-01-01 04:00:00 -0.003487  0.002612  0.003628\n",
      "2020-01-01 08:00:00 -0.001346  0.002452  0.000301\n",
      "2020-01-01 12:00:00  0.005172  0.007643  0.010840\n",
      "2020-01-01 16:00:00 -0.001286  0.001062  0.001192\n",
      "2020-01-01 20:00:00 -0.003886 -0.011062 -0.004463\n",
      "Returns shape: (10950, 3)\n",
      "\n",
      "Returns stats:\n",
      "            BTCUSDT       ETHUSDT       ADAUSDT\n",
      "count  10950.000000  10950.000000  10950.000000\n",
      "mean       0.000326      0.000445      0.000526\n",
      "std        0.013581      0.017206      0.021426\n",
      "min       -0.200295     -0.210851     -0.231597\n",
      "25%       -0.004749     -0.006277     -0.009006\n",
      "50%        0.000331      0.000297      0.000198\n",
      "75%        0.005319      0.007360      0.009403\n",
      "max        0.150512      0.144593      0.157946\n"
     ]
    }
   ],
   "source": [
    "returns = prices.pct_change().dropna()\n",
    "print(\"Returns:\")\n",
    "print(returns.head())\n",
    "print(f\"Returns shape: {returns.shape}\")\n",
    "print(\"\\nReturns stats:\")\n",
    "print(returns.describe())"
   ]
  }
 ],
 "metadata": {
  "kernelspec": {
   "display_name": "Python 3",
   "language": "python",
   "name": "python3"
  },
  "language_info": {
   "codemirror_mode": {
    "name": "ipython",
    "version": 3
   },
   "file_extension": ".py",
   "mimetype": "text/x-python",
   "name": "python",
   "nbconvert_exporter": "python",
   "pygments_lexer": "ipython3",
   "version": "3.11.11"
  },
  "orig_nbformat": 4,
  "vscode": {
   "interpreter": {
    "hash": "1a1af0ee75eeea9e2e1ee996c87e7a2b11a0bebd85af04bb136d915cefc0abce"
   }
  }
 },
 "nbformat": 4,
 "nbformat_minor": 2
}
