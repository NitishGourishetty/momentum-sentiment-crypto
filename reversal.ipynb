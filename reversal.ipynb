{
 "cells": [
  {
   "cell_type": "code",
   "execution_count": 4,
   "metadata": {},
   "outputs": [],
   "source": [
    "from binance.client import Client as bnb_client\n",
    "import pandas as pd\n",
    "client = bnb_client(tld='US')\n",
    "\n",
    "def download_crypto_data(symbols, start_date='2020-01-01', end_date='2024-06-30'):\n",
    "    client = bnb_client(tld='US')\n",
    "    \n",
    "    prices = {}\n",
    "    for symbol in symbols:\n",
    "        klines = client.get_historical_klines(symbol, '4h', start_date, end_date)\n",
    "        df = pd.DataFrame(klines)\n",
    "        df[0] = pd.to_datetime(df[0], unit='ms')\n",
    "        df = df.set_index(0)[[4]]\n",
    "        df.columns = [symbol]\n",
    "        df[symbol] = df[symbol].astype(float)\n",
    "        prices[symbol] = df[symbol]\n",
    "    \n",
    "    price_df = pd.DataFrame(prices)\n",
    "    clean_prices = price_df.dropna()\n",
    "    returns = clean_prices.pct_change().dropna()\n",
    "    \n",
    "    return clean_prices, returns\n"
   ]
  },
  {
   "cell_type": "code",
   "execution_count": 93,
   "metadata": {},
   "outputs": [],
   "source": [
    "def calculate_sharpe_ratio(strategy_returns):\n",
    "    if len(strategy_returns) < 30:\n",
    "        return np.nan\n",
    "    \n",
    "    periods_per_year = 2190\n",
    "    mean_return = strategy_returns.mean()\n",
    "    std_return = strategy_returns.std()\n",
    "    \n",
    "    if std_return == 0:\n",
    "        return np.nan\n",
    "        \n",
    "    return mean_return / std_return * math.sqrt(periods_per_year)"
   ]
  },
  {
   "cell_type": "code",
   "execution_count": 5,
   "metadata": {},
   "outputs": [
    {
     "name": "stdout",
     "output_type": "stream",
     "text": [
      "Data shape: (5387, 5)\n"
     ]
    }
   ],
   "source": [
    "symbols = ['BTCUSDT', 'ETHUSDT', 'ADAUSDT', 'BNBUSDT', 'LINKUSDT']\n",
    "prices, returns = download_crypto_data(symbols)\n",
    "print(f\"Data shape: {returns.shape}\")"
   ]
  },
  {
   "cell_type": "code",
   "execution_count": 90,
   "metadata": {},
   "outputs": [],
   "source": [
    "def calculate_reversal_strategy(returns, lookback=1):\n",
    "    if lookback == 1:\n",
    "        signal = returns.shift(1)\n",
    "    else:\n",
    "        signal = returns.rolling(lookback).mean().shift(1)\n",
    "    \n",
    "    ranks = signal.rank(axis=1, method='first')\n",
    "    n = len(returns.columns)\n",
    "    weights = (n + 1 - 2*ranks) / n\n",
    "    weights = weights.subtract(weights.mean(axis=1), axis=0)\n",
    "    weights = weights.divide(weights.abs().sum(axis=1), axis=0)\n",
    "    \n",
    "    return (weights * returns).sum(axis=1).dropna()"
   ]
  },
  {
   "cell_type": "code",
   "execution_count": 91,
   "metadata": {},
   "outputs": [],
   "source": [
    "def calculate_momentum_strategy(returns, lookback=6):\n",
    "    signal = returns.rolling(lookback).mean().shift(1)\n",
    "    ranks = signal.rank(axis=1, method='first')\n",
    "    n = len(returns.columns)\n",
    "    weights = (2*ranks - n - 1) / n\n",
    "    weights = weights.subtract(weights.mean(axis=1), axis=0)\n",
    "    weights = weights.divide(weights.abs().sum(axis=1), axis=0)\n",
    "    \n",
    "    return (weights * returns).sum(axis=1).dropna()"
   ]
  }
 ],
 "metadata": {
  "kernelspec": {
   "display_name": "Python 3",
   "language": "python",
   "name": "python3"
  },
  "language_info": {
   "codemirror_mode": {
    "name": "ipython",
    "version": 3
   },
   "file_extension": ".py",
   "mimetype": "text/x-python",
   "name": "python",
   "nbconvert_exporter": "python",
   "pygments_lexer": "ipython3",
   "version": "3.11.11"
  },
  "orig_nbformat": 4,
  "vscode": {
   "interpreter": {
    "hash": "1a1af0ee75eeea9e2e1ee996c87e7a2b11a0bebd85af04bb136d915cefc0abce"
   }
  }
 },
 "nbformat": 4,
 "nbformat_minor": 2
}
