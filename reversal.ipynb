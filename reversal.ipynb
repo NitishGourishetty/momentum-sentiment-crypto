{
 "cells": [
  {
   "cell_type": "code",
   "execution_count": 6,
   "metadata": {},
   "outputs": [
    {
     "name": "stdout",
     "output_type": "stream",
     "text": [
      "                     BTCUSDT\n",
      "0                           \n",
      "2020-01-01 00:00:00  7230.71\n",
      "2020-01-01 04:00:00  7205.50\n",
      "2020-01-01 08:00:00  7195.80\n",
      "2020-01-01 12:00:00  7233.02\n",
      "2020-01-01 16:00:00  7223.72\n",
      "Shape: (10951, 1)\n"
     ]
    }
   ],
   "source": [
    "from binance.client import Client as bnb_client\n",
    "import pandas as pd\n",
    "\n",
    "client = bnb_client(tld='US')\n",
    "def get_crypto_data(symbol):\n",
    "    # Kline (the information we are working with): open price, high price, low price, close price, volume in the four hour period\n",
    "    klines = client.get_historical_klines(symbol, '4h', '2020-01-01', '2024-12-31')\n",
    "    \n",
    "    df = pd.DataFrame(klines)\n",
    "    df[0] = pd.to_datetime(df[0], unit='ms')\n",
    "    df = df.set_index(0)[[4]]  # Just close price\n",
    "    df.columns = [symbol]\n",
    "    df[symbol] = df[symbol].astype(float)\n",
    "    \n",
    "    return df\n",
    "\n",
    "btc_data = get_crypto_data('BTCUSDT')\n",
    "print(btc_data.head())\n",
    "print(f\"Shape: {btc_data.shape}\")"
   ]
  },
  {
   "cell_type": "code",
   "execution_count": 10,
   "metadata": {},
   "outputs": [
    {
     "name": "stdout",
     "output_type": "stream",
     "text": [
      "                     BTCUSDT  ETHUSDT  ADAUSDT  BNBUSDT  XRPUSDT  DOTUSDT  \\\n",
      "0                                                                           \n",
      "2020-01-01 00:00:00  7230.71   130.18  0.03308  13.8159  0.19406      NaN   \n",
      "2020-01-01 04:00:00  7205.50   130.52  0.03320  13.7648  0.19518      NaN   \n",
      "2020-01-01 08:00:00  7195.80   130.84  0.03321  13.7162  0.19358      NaN   \n",
      "2020-01-01 12:00:00  7233.02   131.84  0.03357  13.7958  0.19428      NaN   \n",
      "2020-01-01 16:00:00  7223.72   131.98  0.03361  13.7270  0.19474      NaN   \n",
      "\n",
      "                     MATICUSDT  LINKUSDT  \n",
      "0                                         \n",
      "2020-01-01 00:00:00        NaN       NaN  \n",
      "2020-01-01 04:00:00        NaN       NaN  \n",
      "2020-01-01 08:00:00        NaN       NaN  \n",
      "2020-01-01 12:00:00        NaN       NaN  \n",
      "2020-01-01 16:00:00        NaN       NaN  \n"
     ]
    }
   ],
   "source": [
    "symbols = ['BTCUSDT', 'ETHUSDT', 'ADAUSDT', 'BNBUSDT', 'XRPUSDT', 'DOTUSDT', 'MATICUSDT', 'LINKUSDT']\n",
    "dfs = []\n",
    "\n",
    "\n",
    "for symbol in symbols:\n",
    "    df = get_crypto_data(symbol)\n",
    "    dfs.append(df)\n",
    "\n",
    "\n",
    "# combining into one data frame\n",
    "\n",
    "prices = pd.concat(dfs, axis=1)\n",
    "print(prices.head())"
   ]
  },
  {
   "attachments": {},
   "cell_type": "markdown",
   "metadata": {},
   "source": [
    "Because there is such a difference in price here, for our strategy we should use returns instead of just raw price data"
   ]
  },
  {
   "cell_type": "code",
   "execution_count": 11,
   "metadata": {},
   "outputs": [
    {
     "name": "stdout",
     "output_type": "stream",
     "text": [
      "Returns:\n",
      "                      BTCUSDT   ETHUSDT   ADAUSDT   BNBUSDT  XRPUSDT  \\\n",
      "0                                                                      \n",
      "2022-01-14 04:00:00 -0.001200 -0.001095  0.029176  0.007082      0.0   \n",
      "2022-01-14 08:00:00 -0.013861 -0.019072 -0.038814 -0.024946      0.0   \n",
      "2022-01-14 12:00:00  0.025944  0.022771  0.026040  0.019811      0.0   \n",
      "2022-01-14 16:00:00 -0.000381  0.009870 -0.001944  0.009654      0.0   \n",
      "2022-01-14 20:00:00 -0.000371 -0.000466  0.021628  0.008266      0.0   \n",
      "\n",
      "                      DOTUSDT  MATICUSDT  LINKUSDT  \n",
      "0                                                   \n",
      "2022-01-14 04:00:00 -0.015693   0.006611 -0.010317  \n",
      "2022-01-14 08:00:00 -0.021876  -0.031961 -0.034884  \n",
      "2022-01-14 12:00:00  0.032600   0.039349  0.027005  \n",
      "2022-01-14 16:00:00 -0.004772   0.013055  0.008495  \n",
      "2022-01-14 20:00:00  0.024345   0.003436  0.034095  \n",
      "Returns shape: (6491, 8)\n",
      "\n",
      "Returns stats:\n",
      "           BTCUSDT      ETHUSDT      ADAUSDT      BNBUSDT      XRPUSDT  \\\n",
      "count  6491.000000  6491.000000  6491.000000  6491.000000  6491.000000   \n",
      "mean      0.000182     0.000103     0.000104     0.000145     0.000469   \n",
      "std       0.011150     0.014124     0.018077     0.013105     0.023594   \n",
      "min      -0.103456    -0.139427    -0.148383    -0.114601    -0.138606   \n",
      "25%      -0.004044    -0.005332    -0.007871    -0.005253     0.000000   \n",
      "50%       0.000221     0.000133     0.000000     0.000328     0.000000   \n",
      "75%       0.004254     0.005625     0.007666     0.005687     0.000000   \n",
      "max       0.084486     0.116728     0.157946     0.144017     1.642888   \n",
      "\n",
      "           DOTUSDT    MATICUSDT     LINKUSDT  \n",
      "count  6491.000000  6491.000000  6491.000000  \n",
      "mean     -0.000058    -0.000057     0.000151  \n",
      "std       0.017933     0.019598     0.019175  \n",
      "min      -0.145432    -0.132773    -0.150964  \n",
      "25%      -0.008126    -0.008857    -0.009015  \n",
      "50%       0.000000     0.000000     0.000000  \n",
      "75%       0.007744     0.008705     0.009296  \n",
      "max       0.126126     0.208972     0.130976  \n"
     ]
    },
    {
     "name": "stderr",
     "output_type": "stream",
     "text": [
      "/var/folders/rv/rzmfgtcs4dbc86tj60p89ly80000gn/T/ipykernel_28705/3953697242.py:1: FutureWarning: The default fill_method='pad' in DataFrame.pct_change is deprecated and will be removed in a future version. Either fill in any non-leading NA values prior to calling pct_change or specify 'fill_method=None' to not fill NA values.\n",
      "  returns = prices.pct_change().dropna()\n"
     ]
    }
   ],
   "source": [
    "returns = prices.pct_change().dropna()\n",
    "print(\"Returns:\")\n",
    "print(returns.head())\n",
    "print(f\"Returns shape: {returns.shape}\")\n",
    "print(\"\\nReturns stats:\")\n",
    "print(returns.describe())"
   ]
  },
  {
   "cell_type": "code",
   "execution_count": 16,
   "metadata": {},
   "outputs": [
    {
     "name": "stdout",
     "output_type": "stream",
     "text": [
      "\n",
      "Reversal signal (should have values):\n",
      "                      BTCUSDT   ETHUSDT  ADAUSDT   BNBUSDT   DOTUSDT  \\\n",
      "0                                                                      \n",
      "2022-01-14 04:00:00 -0.083333  0.000000     0.25  0.166667 -0.250000   \n",
      "2022-01-14 08:00:00  0.250000  0.166667    -0.25  0.000000  0.083333   \n",
      "2022-01-14 12:00:00 -0.083333 -0.166667     0.00 -0.250000  0.166667   \n",
      "\n",
      "                     MATICUSDT  LINKUSDT  \n",
      "0                                         \n",
      "2022-01-14 04:00:00   0.083333 -0.166667  \n",
      "2022-01-14 08:00:00  -0.083333 -0.166667  \n",
      "2022-01-14 12:00:00   0.250000  0.083333  \n",
      "\n",
      "Momentum signal (first non-NaN rows):\n",
      "                      BTCUSDT   ETHUSDT   ADAUSDT   BNBUSDT   DOTUSDT  \\\n",
      "0                                                                       \n",
      "2022-01-14 20:00:00 -0.250000 -0.166667  0.250000  0.000000 -0.083333   \n",
      "2022-01-15 00:00:00 -0.083333  0.000000 -0.250000 -0.166667  0.083333   \n",
      "2022-01-15 04:00:00 -0.250000  0.000000 -0.083333  0.083333 -0.166667   \n",
      "\n",
      "                     MATICUSDT  LINKUSDT  \n",
      "0                                         \n",
      "2022-01-14 20:00:00   0.166667  0.083333  \n",
      "2022-01-15 00:00:00   0.166667  0.250000  \n",
      "2022-01-15 04:00:00   0.166667  0.250000  \n"
     ]
    }
   ],
   "source": [
    "crypto_columns = ['BTCUSDT', 'ETHUSDT', 'ADAUSDT', 'BNBUSDT', 'DOTUSDT', 'MATICUSDT', 'LINKUSDT']\n",
    "clean_returns = returns[crypto_columns]\n",
    "\n",
    "# Reversal signal (1 period = immediate reversal)\n",
    "reversal_signal = clean_returns.rolling(1).mean().rank(1)\n",
    "reversal_signal = reversal_signal.subtract(reversal_signal.mean(1), 0)\n",
    "reversal_signal = reversal_signal.divide(reversal_signal.abs().sum(1), 0)\n",
    "\n",
    "# Momentum signal (5 periods = 20-hour momentum)\n",
    "momentum_signal = clean_returns.rolling(5).mean().rank(1)\n",
    "momentum_signal = momentum_signal.subtract(momentum_signal.mean(1), 0)\n",
    "momentum_signal = momentum_signal.divide(momentum_signal.abs().sum(1), 0)\n",
    "\n",
    "print(\"\\nReversal signal (should have values):\")\n",
    "print(reversal_signal.dropna().head(3))\n",
    "print(\"\\nMomentum signal (first non-NaN rows):\")\n",
    "print(momentum_signal.dropna().head(3))"
   ]
  },
  {
   "cell_type": "code",
   "execution_count": 15,
   "metadata": {},
   "outputs": [
    {
     "name": "stdout",
     "output_type": "stream",
     "text": [
      "Time regime split:\n",
      "US institutional periods: 1544\n",
      "Asian retail periods: 3404\n",
      "Other periods: 1543\n",
      "\n",
      "Final signal (first few rows):\n",
      "                     BTCUSDT  ETHUSDT  ADAUSDT  BNBUSDT  DOTUSDT  MATICUSDT  \\\n",
      "0                                                                             \n",
      "2022-01-14 04:00:00     0.10     0.05     -0.1    -0.05     0.20      -0.00   \n",
      "2022-01-14 20:00:00    -0.20    -0.15      0.1    -0.05    -0.10       0.05   \n",
      "2022-01-15 00:00:00     0.05    -0.00      0.2     0.10     0.15      -0.10   \n",
      "\n",
      "                     LINKUSDT   hour  day_of_week  \n",
      "0                                                  \n",
      "2022-01-14 04:00:00      0.15 -0.175       -0.175  \n",
      "2022-01-14 20:00:00      0.00  0.200        0.150  \n",
      "2022-01-15 00:00:00     -0.15 -0.050       -0.200  \n"
     ]
    }
   ],
   "source": [
    "hour = clean_returns.index.hour\n",
    "day_of_week = clean_returns.index.dayofweek\n",
    "\n",
    "us_institutional = (hour >= 13) & (hour <= 21) & (day_of_week <= 4)  # Weekday 1pm-9pm UTC\n",
    "asian_retail = (hour >= 22) | (hour <= 6) | (day_of_week >= 5)        # Night hours OR weekends\n",
    "\n",
    "print(\"Time regime split:\")\n",
    "print(f\"US institutional periods: {us_institutional.sum()}\")\n",
    "print(f\"Asian retail periods: {asian_retail.sum()}\")\n",
    "print(f\"Other periods: {len(clean_returns) - us_institutional.sum() - asian_retail.sum()}\")\n",
    "\n",
    "# Test the hypothesis: switch between momentum and reversal\n",
    "final_signal = momentum_signal.copy()\n",
    "final_signal.loc[asian_retail] = -reversal_signal.loc[asian_retail]  # Use REVERSAL during retail hours\n",
    "\n",
    "print(\"\\nFinal signal (first few rows):\")\n",
    "print(final_signal.dropna().head(3))"
   ]
  }
 ],
 "metadata": {
  "kernelspec": {
   "display_name": "Python 3",
   "language": "python",
   "name": "python3"
  },
  "language_info": {
   "codemirror_mode": {
    "name": "ipython",
    "version": 3
   },
   "file_extension": ".py",
   "mimetype": "text/x-python",
   "name": "python",
   "nbconvert_exporter": "python",
   "pygments_lexer": "ipython3",
   "version": "3.11.11"
  },
  "orig_nbformat": 4,
  "vscode": {
   "interpreter": {
    "hash": "1a1af0ee75eeea9e2e1ee996c87e7a2b11a0bebd85af04bb136d915cefc0abce"
   }
  }
 },
 "nbformat": 4,
 "nbformat_minor": 2
}
