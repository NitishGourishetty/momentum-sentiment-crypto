{
 "cells": [
  {
   "cell_type": "code",
   "execution_count": 1,
   "metadata": {},
   "outputs": [],
   "source": [
    "from binance.client import Client\n",
    "import pandas as pd\n",
    "import numpy as np\n",
    "import statsmodels.api as sm\n",
    "import matplotlib.pyplot as plt\n",
    "from datetime import datetime\n",
    "import os\n",
    "\n",
    "client = Client(tld='US')"
   ]
  },
  {
   "cell_type": "code",
   "execution_count": 5,
   "metadata": {},
   "outputs": [
    {
     "name": "stdout",
     "output_type": "stream",
     "text": [
      "Saved BTC\n",
      "Saved ETH\n",
      "Saved ADA\n",
      "Saved BNB\n",
      "Saved XRP\n",
      "Saved DOGE\n",
      "Saved DOT\n",
      "Saved LINK\n",
      "Saved LTC\n",
      "Saved TRX\n",
      "Saved MATIC\n",
      "Saved AVAX\n",
      "Saved UNI\n",
      "Saved XLM\n",
      "Saved ATOM\n",
      "Saved NEAR\n",
      "Saved APT\n",
      "Saved BCH\n"
     ]
    }
   ],
   "source": [
    "# Adding more crypto currencies\n",
    "\n",
    "univ = [\n",
    "    'BTCUSDT','ETHUSDT','ADAUSDT','BNBUSDT','XRPUSDT','DOGEUSDT','DOTUSDT',\n",
    "    'LINKUSDT','LTCUSDT','TRXUSDT','MATICUSDT','AVAXUSDT','UNIUSDT',\n",
    "    'XLMUSDT','ATOMUSDT','NEARUSDT','APTUSDT','BCHUSDT'\n",
    "]\n",
    "\n",
    "START_DATE = '2020-01-01'\n",
    "END_DATE   = '2024-12-31'\n",
    "\n",
    "\n",
    "def get_binance_px(symbol, freq='1d'):\n",
    "    data = client.get_historical_klines(symbol, freq, START_DATE, END_DATE)\n",
    "    columns = [\n",
    "        'open_time','open','high','low','close','volume','close_time',\n",
    "        'quote_volume','num_trades','taker_base_volume','taker_quote_volume','ignore'\n",
    "    ]\n",
    "    df = pd.DataFrame(data, columns=columns)\n",
    "    df['open_time'] = pd.to_datetime(df['open_time'], unit='ms', utc=True)\n",
    "    df.set_index('open_time', inplace=True)\n",
    "    df = df[['close']].astype(float)\n",
    "    return df\n",
    "\n",
    "\n",
    "\n",
    "os.makedirs('../data/raw', exist_ok=True)\n",
    "\n",
    "for ticker in univ:\n",
    "    df = get_binance_px(ticker)\n",
    "    coin = ticker.replace('USDT','')\n",
    "    df.to_csv(f'../data/raw/{coin}_USDT.csv')\n",
    "    print(f'Saved {coin}')\n",
    "    \n"
   ]
  },
  {
   "cell_type": "code",
   "execution_count": 9,
   "metadata": {},
   "outputs": [
    {
     "name": "stdout",
     "output_type": "stream",
     "text": [
      "dict_keys(['BTC', 'ETH', 'ADA', 'BNB', 'XRP', 'DOGE', 'DOT', 'LINK', 'LTC', 'TRX', 'MATIC', 'AVAX', 'UNI', 'XLM', 'ATOM', 'NEAR', 'APT', 'BCH'])\n"
     ]
    },
    {
     "data": {
      "text/html": [
       "<div>\n",
       "<style scoped>\n",
       "    .dataframe tbody tr th:only-of-type {\n",
       "        vertical-align: middle;\n",
       "    }\n",
       "\n",
       "    .dataframe tbody tr th {\n",
       "        vertical-align: top;\n",
       "    }\n",
       "\n",
       "    .dataframe thead th {\n",
       "        text-align: right;\n",
       "    }\n",
       "</style>\n",
       "<table border=\"1\" class=\"dataframe\">\n",
       "  <thead>\n",
       "    <tr style=\"text-align: right;\">\n",
       "      <th></th>\n",
       "      <th>close</th>\n",
       "    </tr>\n",
       "    <tr>\n",
       "      <th>open_time</th>\n",
       "      <th></th>\n",
       "    </tr>\n",
       "  </thead>\n",
       "  <tbody>\n",
       "    <tr>\n",
       "      <th>2020-01-01 00:00:00+00:00</th>\n",
       "      <td>7195.65</td>\n",
       "    </tr>\n",
       "    <tr>\n",
       "      <th>2020-01-02 00:00:00+00:00</th>\n",
       "      <td>6961.80</td>\n",
       "    </tr>\n",
       "    <tr>\n",
       "      <th>2020-01-03 00:00:00+00:00</th>\n",
       "      <td>7345.65</td>\n",
       "    </tr>\n",
       "    <tr>\n",
       "      <th>2020-01-04 00:00:00+00:00</th>\n",
       "      <td>7349.45</td>\n",
       "    </tr>\n",
       "    <tr>\n",
       "      <th>2020-01-05 00:00:00+00:00</th>\n",
       "      <td>7364.19</td>\n",
       "    </tr>\n",
       "  </tbody>\n",
       "</table>\n",
       "</div>"
      ],
      "text/plain": [
       "                             close\n",
       "open_time                         \n",
       "2020-01-01 00:00:00+00:00  7195.65\n",
       "2020-01-02 00:00:00+00:00  6961.80\n",
       "2020-01-03 00:00:00+00:00  7345.65\n",
       "2020-01-04 00:00:00+00:00  7349.45\n",
       "2020-01-05 00:00:00+00:00  7364.19"
      ]
     },
     "execution_count": 9,
     "metadata": {},
     "output_type": "execute_result"
    }
   ],
   "source": [
    "all_coins = {}\n",
    "for ticker in univ:\n",
    "    coin = ticker.replace('USDT','')\n",
    "    df = pd.read_csv(f'../data/raw/{coin}_USDT.csv', index_col='open_time', parse_dates=True)\n",
    "    all_coins[coin] = df\n",
    "\n",
    "print(all_coins.keys())\n",
    "all_coins['BTC'].head()"
   ]
  },
  {
   "cell_type": "code",
   "execution_count": 11,
   "metadata": {},
   "outputs": [
    {
     "name": "stdout",
     "output_type": "stream",
     "text": [
      "                               BTC     ETH      ADA      BNB      XRP  \\\n",
      "2020-01-01 00:00:00+00:00  7195.65  130.52  0.03346  13.6954  0.19301   \n",
      "2020-01-02 00:00:00+00:00  6961.80  127.22  0.03272  13.0225  0.18762   \n",
      "2020-01-03 00:00:00+00:00  7345.65  133.95  0.03403  13.6231  0.19320   \n",
      "2020-01-04 00:00:00+00:00  7349.45  134.02  0.03441  13.7944  0.19277   \n",
      "2020-01-05 00:00:00+00:00  7364.19  135.23  0.03455  14.0368  0.19462   \n",
      "\n",
      "                               DOGE  DOT  LINK    LTC  TRX  MATIC  AVAX  UNI  \\\n",
      "2020-01-01 00:00:00+00:00  0.002025  NaN   NaN  41.53  NaN    NaN   NaN  NaN   \n",
      "2020-01-02 00:00:00+00:00  0.001996  NaN   NaN  39.44  NaN    NaN   NaN  NaN   \n",
      "2020-01-03 00:00:00+00:00  0.002015  NaN   NaN  42.05  NaN    NaN   NaN  NaN   \n",
      "2020-01-04 00:00:00+00:00  0.002047  NaN   NaN  42.58  NaN    NaN   NaN  NaN   \n",
      "2020-01-05 00:00:00+00:00  0.002072  NaN   NaN  43.26  NaN    NaN   NaN  NaN   \n",
      "\n",
      "                               XLM   ATOM  NEAR  APT     BCH  \n",
      "2020-01-01 00:00:00+00:00  0.04525  4.452   NaN  NaN  204.31  \n",
      "2020-01-02 00:00:00+00:00  0.04363  4.168   NaN  NaN  195.41  \n",
      "2020-01-03 00:00:00+00:00  0.04566  4.238   NaN  NaN  222.70  \n",
      "2020-01-04 00:00:00+00:00  0.04574  4.265   NaN  NaN  224.25  \n",
      "2020-01-05 00:00:00+00:00  0.04543  4.245   NaN  NaN  223.29  \n"
     ]
    }
   ],
   "source": [
    "date_range = pd.date_range(start=START_DATE, end=END_DATE, freq='D', tz='UTC')\n",
    "for coin in all_coins:\n",
    "    all_coins[coin] = all_coins[coin].reindex(date_range).ffill()\n",
    "\n",
    "prices = pd.concat([all_coins[c]['close'].rename(c) for c in all_coins], axis=1)\n",
    "print(prices.head())"
   ]
  },
  {
   "attachments": {},
   "cell_type": "markdown",
   "metadata": {},
   "source": [
    "Having a clear Train/Validation SET"
   ]
  },
  {
   "cell_type": "code",
   "execution_count": 12,
   "metadata": {},
   "outputs": [],
   "source": [
    "train = prices[prices.index < '2023-01-01']\n",
    "valid = prices[prices.index >= '2023-01-01']"
   ]
  },
  {
   "cell_type": "code",
   "execution_count": 69,
   "metadata": {},
   "outputs": [],
   "source": [
    "# with short term reversal\n",
    "def moving_avg_momentum_combo_vol_weighted(\n",
    "    prices,\n",
    "    fast=20,\n",
    "    slow=60,\n",
    "    top_pct=0.1,\n",
    "    coin_weights=None\n",
    "):\n",
    "    \"\"\"\n",
    "    - Had to change momentum strategy because it wasn't performing -> Added these\n",
    "    - Trend: fast MA minus slow MA\n",
    "    - Vol-adjusted: normalize by recent std and Short-term reversal: negative short-term return\n",
    "    - Weekly Turnover adjustments\n",
    "    \"\"\"\n",
    "    ma_fast = prices.rolling(fast).mean()\n",
    "    ma_slow = prices.rolling(slow).mean()\n",
    "    signal_trend = ma_fast - ma_slow\n",
    "\n",
    "    vol = prices.pct_change().rolling(20).std()\n",
    "    signal_trend_adj = signal_trend / vol\n",
    "\n",
    "    signal_reversal = -prices.pct_change(5)\n",
    "    combo_signal = signal_trend_adj + signal_reversal\n",
    "    signal_weekly = combo_signal.resample('W').last()\n",
    "    ranks_weekly = signal_weekly.rank(axis=1, ascending=False, method='min')\n",
    "    ranks = ranks_weekly.reindex(combo_signal.index, method='ffill')\n",
    "\n",
    "    cutoff = int(len(prices.columns) * top_pct)\n",
    "    cutoff = max(cutoff, 1)\n",
    "    longs = ranks <= cutoff\n",
    "\n",
    "    daily_rets = prices.pct_change().shift(-1)\n",
    "\n",
    "    if coin_weights is not None:\n",
    "        w = pd.Series(coin_weights)\n",
    "        daily_rets = daily_rets * w\n",
    "\n",
    "    strategy = (daily_rets * longs.shift(1)).sum(axis=1)\n",
    "\n",
    "    btc_ma = prices['BTC'].rolling(50).mean()\n",
    "    in_trend = prices['BTC'] > btc_ma\n",
    "    strategy = strategy.where(in_trend, 0.0)\n",
    "\n",
    "    return strategy\n",
    "\n",
    "\n",
    "\n",
    "coin_weights = {\n",
    "    'BTC': 0.3,\n",
    "    'ETH': 0.2,\n",
    "    'BNB': 0.1,\n",
    "    'XRP': 0.1,\n",
    "    'SOL': 0.1,\n",
    "    'DOGE': 0.05,\n",
    "    'MATIC': 0.05,\n",
    "    'LINK': 0.05,\n",
    "    'LTC': 0.025,\n",
    "    'DOT': 0.025\n",
    "}\n",
    "\n",
    "momentum_train = moving_avg_momentum_combo_vol_weighted(\n",
    "    train,\n",
    "    fast=20,\n",
    "    slow=60,\n",
    "    top_pct=0.1,\n",
    "    coin_weights=coin_weights\n",
    ")\n",
    "\n",
    "momentum_valid = moving_avg_momentum_combo_vol_weighted(\n",
    "    valid,\n",
    "    fast=20,\n",
    "    slow=60,\n",
    "    top_pct=0.1,\n",
    "    coin_weights=coin_weights\n",
    ")\n"
   ]
  },
  {
   "attachments": {},
   "cell_type": "markdown",
   "metadata": {},
   "source": [
    "DIFF PAIRS TRADING MODEL"
   ]
  },
  {
   "cell_type": "code",
   "execution_count": 70,
   "metadata": {},
   "outputs": [
    {
     "name": "stdout",
     "output_type": "stream",
     "text": [
      "Hedge Ratio ETH/BTC: 1.2667172046700357\n"
     ]
    },
    {
     "name": "stderr",
     "output_type": "stream",
     "text": [
      "/var/folders/rv/rzmfgtcs4dbc86tj60p89ly80000gn/T/ipykernel_56382/3665225687.py:5: FutureWarning: Series.__getitem__ treating keys as positions is deprecated. In a future version, integer keys will always be treated as labels (consistent with DataFrame behavior). To access a value by position, use `ser.iloc[pos]`\n",
      "  hedge_ratio = hedge_model.params[1]\n"
     ]
    }
   ],
   "source": [
    "btc_log = np.log(prices['BTC'])\n",
    "eth_log = np.log(prices['ETH'])\n",
    "\n",
    "hedge_model = sm.OLS(eth_log, sm.add_constant(btc_log)).fit()\n",
    "hedge_ratio = hedge_model.params[1]\n",
    "print(\"Hedge Ratio ETH/BTC:\", hedge_ratio)\n",
    "\n",
    "spread = eth_log - hedge_ratio * btc_log\n",
    "\n",
    "spread_mean = spread.rolling(60).mean()\n",
    "spread_std  = spread.rolling(60).std()\n",
    "zscore = (spread - spread_mean) / spread_std\n",
    "\n",
    "long_spread = zscore < -1\n",
    "short_spread = zscore > 1\n",
    "\n",
    "pairs_signal = np.where(long_spread, 1, np.where(short_spread, -1, 0))\n",
    "spread_ret = eth_log.diff() - hedge_ratio * btc_log.diff()\n",
    "pairs_pnl = pd.Series(pairs_signal, index=spread.index).shift(1) * spread_ret\n",
    "\n",
    "pairs_train = pairs_pnl[pairs_pnl.index < '2023-01-01']\n",
    "pairs_valid = pairs_pnl[pairs_pnl.index >= '2023-01-01']"
   ]
  },
  {
   "cell_type": "code",
   "execution_count": 71,
   "metadata": {},
   "outputs": [
    {
     "name": "stdout",
     "output_type": "stream",
     "text": [
      "Raw Momentum Train Sharpe: 1.2095577149814218\n",
      "Raw Momentum Valid Sharpe: 1.4215016601600148\n"
     ]
    }
   ],
   "source": [
    "print(\"Raw Momentum Train Sharpe:\", sharpe(momentum_train))\n",
    "print(\"Raw Momentum Valid Sharpe:\", sharpe(momentum_valid))\n",
    "\n"
   ]
  },
  {
   "cell_type": "code",
   "execution_count": 72,
   "metadata": {},
   "outputs": [],
   "source": [
    "def apply_costs(r, turnover_est=0.1, fee=0.002):\n",
    "    return r - turnover_est * fee"
   ]
  },
  {
   "cell_type": "code",
   "execution_count": 73,
   "metadata": {},
   "outputs": [
    {
     "name": "stderr",
     "output_type": "stream",
     "text": [
      "/var/folders/rv/rzmfgtcs4dbc86tj60p89ly80000gn/T/ipykernel_56382/1894048952.py:9: FutureWarning: Downcasting object dtype arrays on .fillna, .ffill, .bfill is deprecated and will change in a future version. Call result.infer_objects(copy=False) instead. To opt-in to the future behavior, set `pd.set_option('future.no_silent_downcasting', True)`\n",
      "  net_hybrid_train = w_mom * net_mom_train.fillna(0) + w_pairs * net_pairs_train.fillna(0)\n",
      "/var/folders/rv/rzmfgtcs4dbc86tj60p89ly80000gn/T/ipykernel_56382/1894048952.py:10: FutureWarning: Downcasting object dtype arrays on .fillna, .ffill, .bfill is deprecated and will change in a future version. Call result.infer_objects(copy=False) instead. To opt-in to the future behavior, set `pd.set_option('future.no_silent_downcasting', True)`\n",
      "  net_hybrid_valid = w_mom * net_mom_valid.fillna(0) + w_pairs * net_pairs_valid.fillna(0)\n"
     ]
    }
   ],
   "source": [
    "net_mom_train = apply_costs(momentum_train)\n",
    "net_mom_valid = apply_costs(momentum_valid)\n",
    "\n",
    "net_pairs_train = apply_costs(pairs_train)\n",
    "net_pairs_valid = apply_costs(pairs_valid)\n",
    "\n",
    "# Hybrid\n",
    "w_mom, w_pairs = 1.0, 0.0 # pairs trading is killing so testing to stick with momentum\n",
    "net_hybrid_train = w_mom * net_mom_train.fillna(0) + w_pairs * net_pairs_train.fillna(0)\n",
    "net_hybrid_valid = w_mom * net_mom_valid.fillna(0) + w_pairs * net_pairs_valid.fillna(0)"
   ]
  },
  {
   "cell_type": "code",
   "execution_count": 74,
   "metadata": {},
   "outputs": [],
   "source": [
    "btc_ret = prices['BTC'].pct_change()\n",
    "\n",
    "btc_train = btc_ret.loc[net_hybrid_train.index]\n",
    "btc_valid = btc_ret.loc[net_hybrid_valid.index]"
   ]
  },
  {
   "cell_type": "code",
   "execution_count": 75,
   "metadata": {},
   "outputs": [
    {
     "name": "stdout",
     "output_type": "stream",
     "text": [
      "Train Alpha T-Stat:\n",
      "                             OLS Regression Results                            \n",
      "==============================================================================\n",
      "Dep. Variable:                      y   R-squared:                       0.000\n",
      "Model:                            OLS   Adj. R-squared:                 -0.001\n",
      "Method:                 Least Squares   F-statistic:                   0.05913\n",
      "Date:                Thu, 10 Jul 2025   Prob (F-statistic):              0.808\n",
      "Time:                        23:05:31   Log-Likelihood:                 3932.2\n",
      "No. Observations:                1095   AIC:                            -7860.\n",
      "Df Residuals:                    1093   BIC:                            -7850.\n",
      "Df Model:                           1                                         \n",
      "Covariance Type:            nonrobust                                         \n",
      "==============================================================================\n",
      "                 coef    std err          t      P>|t|      [0.025      0.975]\n",
      "------------------------------------------------------------------------------\n",
      "const          0.0003      0.000      1.519      0.129   -8.94e-05       0.001\n",
      "BTC            0.0013      0.005      0.243      0.808      -0.009       0.012\n",
      "==============================================================================\n",
      "Omnibus:                      344.846   Durbin-Watson:                   1.995\n",
      "Prob(Omnibus):                  0.000   Jarque-Bera (JB):             7860.593\n",
      "Skew:                           0.897   Prob(JB):                         0.00\n",
      "Kurtosis:                      16.003   Cond. No.                         25.9\n",
      "==============================================================================\n",
      "\n",
      "Notes:\n",
      "[1] Standard Errors assume that the covariance matrix of the errors is correctly specified.\n",
      "\n",
      "Validation Alpha T-Stat:\n",
      "                             OLS Regression Results                            \n",
      "==============================================================================\n",
      "Dep. Variable:                      y   R-squared:                       0.001\n",
      "Model:                            OLS   Adj. R-squared:                 -0.000\n",
      "Method:                 Least Squares   F-statistic:                    0.7234\n",
      "Date:                Thu, 10 Jul 2025   Prob (F-statistic):              0.395\n",
      "Time:                        23:05:31   Log-Likelihood:                 2769.7\n",
      "No. Observations:                 731   AIC:                            -5535.\n",
      "Df Residuals:                     729   BIC:                            -5526.\n",
      "Df Model:                           1                                         \n",
      "Covariance Type:            nonrobust                                         \n",
      "==============================================================================\n",
      "                 coef    std err          t      P>|t|      [0.025      0.975]\n",
      "------------------------------------------------------------------------------\n",
      "const          0.0003      0.000      1.516      0.130   -9.12e-05       0.001\n",
      "BTC           -0.0068      0.008     -0.851      0.395      -0.023       0.009\n",
      "==============================================================================\n",
      "Omnibus:                      217.414   Durbin-Watson:                   2.070\n",
      "Prob(Omnibus):                  0.000   Jarque-Bera (JB):             2020.019\n",
      "Skew:                           1.057   Prob(JB):                         0.00\n",
      "Kurtosis:                      10.865   Cond. No.                         39.5\n",
      "==============================================================================\n",
      "\n",
      "Notes:\n",
      "[1] Standard Errors assume that the covariance matrix of the errors is correctly specified.\n"
     ]
    }
   ],
   "source": [
    "def calc_alpha_tstat(strategy, benchmark):\n",
    "    X = sm.add_constant(benchmark)\n",
    "    df = pd.concat([strategy, X], axis=1).dropna()\n",
    "    y = df.iloc[:,0]\n",
    "    X = df.iloc[:,1:]\n",
    "    model = sm.OLS(y, X).fit()\n",
    "    return model.summary()\n",
    "\n",
    "\n",
    "print(\"Train Alpha T-Stat:\\n\", calc_alpha_tstat(net_hybrid_train, btc_train))\n",
    "print(\"\\nValidation Alpha T-Stat:\\n\", calc_alpha_tstat(net_hybrid_valid, btc_valid))"
   ]
  },
  {
   "cell_type": "code",
   "execution_count": 85,
   "metadata": {},
   "outputs": [
    {
     "name": "stdout",
     "output_type": "stream",
     "text": [
      "Raw Momentum Train Sharpe: 1.2095577149814218\n",
      "Raw Momentum Valid Sharpe: 1.4215016601600148\n",
      "Net Momentum Train Sharpe: 0.7336621791180084\n",
      "Net Momentum Valid Sharpe: 0.8421158051326941\n"
     ]
    },
    {
     "name": "stderr",
     "output_type": "stream",
     "text": [
      "/var/folders/rv/rzmfgtcs4dbc86tj60p89ly80000gn/T/ipykernel_56382/915413861.py:11: FutureWarning: Downcasting object dtype arrays on .fillna, .ffill, .bfill is deprecated and will change in a future version. Call result.infer_objects(copy=False) instead. To opt-in to the future behavior, set `pd.set_option('future.no_silent_downcasting', True)`\n",
      "  blended_cum_train = (1 + blended_train.fillna(0)).cumprod()\n",
      "/var/folders/rv/rzmfgtcs4dbc86tj60p89ly80000gn/T/ipykernel_56382/915413861.py:12: FutureWarning: Downcasting object dtype arrays on .fillna, .ffill, .bfill is deprecated and will change in a future version. Call result.infer_objects(copy=False) instead. To opt-in to the future behavior, set `pd.set_option('future.no_silent_downcasting', True)`\n",
      "  blended_cum_valid = (1 + blended_valid.fillna(0)).cumprod()\n"
     ]
    }
   ],
   "source": [
    "def sharpe(r):\n",
    "    return (r.mean() / r.std()) * np.sqrt(252)\n",
    "\n",
    "print(\"Raw Momentum Train Sharpe:\", sharpe(momentum_train))\n",
    "print(\"Raw Momentum Valid Sharpe:\", sharpe(momentum_valid))\n",
    "print(\"Net Momentum Train Sharpe:\", sharpe(net_mom_train))\n",
    "print(\"Net Momentum Valid Sharpe:\", sharpe(net_mom_valid))\n",
    "\n",
    "blended_train = net_mom_train + 0.5 * btc_train\n",
    "blended_valid = net_mom_valid + 0.5 * btc_valid\n",
    "blended_cum_train = (1 + blended_train.fillna(0)).cumprod()\n",
    "blended_cum_valid = (1 + blended_valid.fillna(0)).cumprod()\n"
   ]
  },
  {
   "cell_type": "code",
   "execution_count": 87,
   "metadata": {},
   "outputs": [
    {
     "name": "stderr",
     "output_type": "stream",
     "text": [
      "/var/folders/rv/rzmfgtcs4dbc86tj60p89ly80000gn/T/ipykernel_56382/291801836.py:4: FutureWarning: Downcasting object dtype arrays on .fillna, .ffill, .bfill is deprecated and will change in a future version. Call result.infer_objects(copy=False) instead. To opt-in to the future behavior, set `pd.set_option('future.no_silent_downcasting', True)`\n",
      "  excess_cum_train = (1 + excess_train.fillna(0)).cumprod()\n",
      "/var/folders/rv/rzmfgtcs4dbc86tj60p89ly80000gn/T/ipykernel_56382/291801836.py:5: FutureWarning: Downcasting object dtype arrays on .fillna, .ffill, .bfill is deprecated and will change in a future version. Call result.infer_objects(copy=False) instead. To opt-in to the future behavior, set `pd.set_option('future.no_silent_downcasting', True)`\n",
      "  excess_cum_valid = (1 + excess_valid.fillna(0)).cumprod()\n"
     ]
    },
    {
     "data": {
      "image/png": "[encoded data removed]",
      "text/plain": [
       "<Figure size 1200x600 with 1 Axes>"
      ]
     },
     "metadata": {},
     "output_type": "display_data"
    }
   ],
   "source": [
    "excess_train = net_mom_train - btc_train\n",
    "excess_valid = net_mom_valid - btc_valid\n",
    "\n",
    "excess_cum_train = (1 + excess_train.fillna(0)).cumprod()\n",
    "excess_cum_valid = (1 + excess_valid.fillna(0)).cumprod()\n",
    "\n",
    "plt.figure(figsize=(12,6))\n",
    "plt.plot(excess_cum_train, label='Excess Return Train')\n",
    "plt.plot(excess_cum_valid, label='Excess Return Valid')\n",
    "plt.axvline(pd.to_datetime('2023-01-01'), color='black', linestyle='--', label='Train/Valid Split')\n",
    "plt.title('Factor Cumulative Excess Return vs BTC')\n",
    "plt.legend()\n",
    "plt.show()\n"
   ]
  },
  {
   "cell_type": "code",
   "execution_count": 79,
   "metadata": {},
   "outputs": [
    {
     "name": "stdout",
     "output_type": "stream",
     "text": [
      "Assumed turnover: 0.1\n",
      "Gross Train Sharpe: 1.2095577149814218\n",
      "Net Train Sharpe: 0.7336621791180084\n"
     ]
    }
   ],
   "source": [
    "print(\"Assumed turnover:\", 0.1)\n",
    "print(\"Gross Train Sharpe:\", sharpe(momentum_train))\n",
    "print(\"Net Train Sharpe:\", sharpe(net_mom_train))\n"
   ]
  }
 ],
 "metadata": {
  "kernelspec": {
   "display_name": "Python 3",
   "language": "python",
   "name": "python3"
  },
  "language_info": {
   "codemirror_mode": {
    "name": "ipython",
    "version": 3
   },
   "file_extension": ".py",
   "mimetype": "text/x-python",
   "name": "python",
   "nbconvert_exporter": "python",
   "pygments_lexer": "ipython3",
   "version": "3.11.11"
  },
  "orig_nbformat": 4,
  "vscode": {
   "interpreter": {
    "hash": "1a1af0ee75eeea9e2e1ee996c87e7a2b11a0bebd85af04bb136d915cefc0abce"
   }
  }
 },
 "nbformat": 4,
 "nbformat_minor": 2
}
